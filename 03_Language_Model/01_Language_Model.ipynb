{
 "cells": [
  {
   "cell_type": "markdown",
   "metadata": {
    "collapsed": true,
    "pycharm": {
     "name": "#%% md\n"
    }
   },
   "source": [
    "# Language Model\n",
    "\n",
    "Language model distinguishes sentence whether it is well composed or sentences are not appropriate.\n",
    "\n",
    "This chapter talks about statistical language model (SLM).\n",
    "Nowadays NN statistical model is used more used.\n",
    "\n",
    "But n-gram is used until nowadays. It is worth to understand\n",
    "how statistical methods work for studying remaining topics of NLP.\n"
   ]
  }
 ],
 "metadata": {
  "kernelspec": {
   "display_name": "Python 3",
   "language": "python",
   "name": "python3"
  },
  "language_info": {
   "codemirror_mode": {
    "name": "ipython",
    "version": 2
   },
   "file_extension": ".py",
   "mimetype": "text/x-python",
   "name": "python",
   "nbconvert_exporter": "python",
   "pygments_lexer": "ipython2",
   "version": "2.7.6"
  }
 },
 "nbformat": 4,
 "nbformat_minor": 0
}